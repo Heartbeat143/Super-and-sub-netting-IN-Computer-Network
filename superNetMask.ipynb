{
 "cells": [
  {
   "cell_type": "code",
   "execution_count": 63,
   "metadata": {},
   "outputs": [
    {
     "name": "stdout",
     "output_type": "stream",
     "text": [
      "Enter required number of physical networks by An organizations: 416167824\n",
      "Supernetting can be done in classes A,B and C\n",
      "\n",
      "\n",
      "As per demands for class type :C\n",
      "\n",
      "Number of bits required for supernetting : 21\n",
      "Number of hosts : 416167824\n",
      "Number of classes required : 1638456\n",
      "Number of supernets : 1638456\n",
      "default supernet mask for C class: [255, 255, 255, 0]\n",
      "supernet mask  for C class : [224, 0, 0, 0]\n",
      "C class address first IP address: [192, 0, 0, 1]\n",
      "C class address last  IP address: [217, 0, 56, 1]\n"
     ]
    }
   ],
   "source": [
    "import numpy as np\n",
    "total_hosts = int(input(\"Enter required number of physical networks by An organizations: \"))\n",
    "\n",
    "# finding class type (when we need supernetting in classes A,B,C)\n",
    "if total_hosts > 2**24-2:\n",
    "    classType='A'\n",
    "    print(\"Supernetting can be done in classes A,B and C\")\n",
    "elif total_hosts > 2**16-2:\n",
    "    classType='B'\n",
    "    print(\"Supernetting can be done in classes B and C\")\n",
    "else:\n",
    "    classType='C'\n",
    "    print(\"Supernetting can be done only in class C\")\n",
    "\n",
    "\n",
    "\n",
    "''''Assume, Demands are only class C for supernetting...............(use for A= 2^16-2 B= 2^24-2)'''\n",
    "\n",
    "req_supernets=int(np.ceil(total_hosts/(2**8-2)))\n",
    "req_bits=int(np.ceil(np.log2(req_supernets))) #bits require to super netting\n",
    "\n",
    "address=[192,0,0,1]\n",
    "default_mask_C = [255,255,255,0]\n",
    "\n",
    "temp=''   #changing in bits according to requirement\n",
    "if req_bits <= 8: # 8:8:8:8 => 1st:2nd:3rd:4th 8 bits respectively\n",
    "    for i in range(8):\n",
    "        temp += '0' if i<8-req_bits else '1'   \n",
    "    supernet_mask = [255,255,255-int('0b'+temp,2),0]   #using some from 3rd 8 bits for supernet\n",
    "elif req_bits<=16:# req_bits <=16\n",
    "    for i in range(8):\n",
    "        temp += '0' if i<8-req_bits%8 else '1'\n",
    "    supernet_mask = [255,255-int('0b'+temp,2),0,0]     #using 3rd + some from 2nd 8 bits for supernet \n",
    "else:\n",
    "    for i in range(8):\n",
    "        temp += '0' if i<8-req_bits%16 else '1'\n",
    "    supernet_mask = [255-int('0b'+temp,2),0,0,0]     #using 2nd,3rd and some from 1st 8 bits for supernet\n",
    "\n",
    "#finding last continous address \n",
    "if req_supernets<=256:\n",
    "    last_address=address[:2] + [req_supernets-1] + address[3:4]\n",
    "elif req_supernets<=256*256:#when more the 256 addresses and less the 256x256\n",
    "    last_address= address[:1] + [req_supernets//256] + [req_supernets%256] + address[3:4]\n",
    "else:\n",
    "    last_address= [192+req_supernets//(256*256)] + [(req_supernets%(256*256))//256] + [(req_supernets%(256*256))%256] + address[3:4]\n",
    "    \n",
    "    \n",
    "print(\"\\n\\nAs per demands for class type :C\\n\")\n",
    "print(\"Number of bits required for supernetting :\",req_bits)\n",
    "print(\"Number of hosts :\",total_hosts)\n",
    "print(\"Number of classes required :\",req_supernets)\n",
    "print(\"Number of supernets :\",req_supernets)\n",
    "print(\"default supernet mask for C class:\",default_mask_C)\n",
    "print(\"supernet mask  for C class :\",supernet_mask)\n",
    "print(\"C class address first IP address:\",address)\n",
    "print(\"C class address last  IP address:\",last_address)\n"
   ]
  }
 ],
 "metadata": {
  "kernelspec": {
   "display_name": "Python 3",
   "language": "python",
   "name": "python3"
  },
  "language_info": {
   "codemirror_mode": {
    "name": "ipython",
    "version": 3
   },
   "file_extension": ".py",
   "mimetype": "text/x-python",
   "name": "python",
   "nbconvert_exporter": "python",
   "pygments_lexer": "ipython3",
   "version": "3.6.8"
  }
 },
 "nbformat": 4,
 "nbformat_minor": 4
}
